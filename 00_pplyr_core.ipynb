{
 "cells": [
  {
   "cell_type": "code",
   "execution_count": null,
   "metadata": {},
   "outputs": [],
   "source": [
    "# default_exp core"
   ]
  },
  {
   "cell_type": "markdown",
   "metadata": {},
   "source": [
    "# pplyr\n",
    "\n",
    "> use the R dplyr package with python"
   ]
  },
  {
   "cell_type": "code",
   "execution_count": null,
   "metadata": {},
   "outputs": [],
   "source": [
    "#hide\n",
    "from nbdev.showdoc import *"
   ]
  },
  {
   "cell_type": "code",
   "execution_count": null,
   "metadata": {},
   "outputs": [],
   "source": [
    "#export\n",
    "\n",
    "import pandas as pd\n",
    "from os import system\n",
    "from tempfile import NamedTemporaryFile\n",
    "\n",
    "def pplyr(df, cmd):\n",
    "    \"\"\"\n",
    "    Writes dataframe to csv, creates R script with dplyer code, calls R script and re-reads the output of the script.\n",
    "    See https://github.com/fdewes/pplyer for docs / examples.\n",
    "    \"\"\"\n",
    "    data_file = NamedTemporaryFile()\n",
    "    script_file = NamedTemporaryFile()\n",
    "\n",
    "    libs = (\"library(dplyr); library(data.table)\")\n",
    "    load = (\"df = fread('\" + data_file.name + \"') %>% as.data.frame()\")\n",
    "    write = (\"fwrite(df, '\" + data_file.name + \"')\")\n",
    "    df.to_csv(data_file.name)\n",
    "\n",
    "    with open(script_file.name, \"w\") as f:\n",
    "        f.write(libs + \"\\n\")\n",
    "        f.write(load + \"\\n\")\n",
    "        f.write(\"df = \" + cmd + \"\\n\")\n",
    "        f.write(write + \"\\n\")\n",
    "\n",
    "    system(\"Rscript \" + script_file.name)\n",
    "    df = pd.read_csv(data_file.name)\n",
    "    return df"
   ]
  }
 ],
 "metadata": {
  "kernelspec": {
   "display_name": "Python 3",
   "language": "python",
   "name": "python3"
  }
 },
 "nbformat": 4,
 "nbformat_minor": 4
}
