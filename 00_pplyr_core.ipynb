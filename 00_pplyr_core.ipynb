{
 "cells": [
  {
   "cell_type": "code",
   "execution_count": null,
   "metadata": {},
   "outputs": [],
   "source": [
    "# default_exp core"
   ]
  },
  {
   "cell_type": "markdown",
   "metadata": {},
   "source": [
    "# pplyr\n",
    "\n",
    "> pplyr lets you use dplyrs grammar of data manipulation from within python without any code changes."
   ]
  },
  {
   "cell_type": "code",
   "execution_count": null,
   "metadata": {},
   "outputs": [],
   "source": [
    "#hide\n",
    "from nbdev.showdoc import *"
   ]
  },
  {
   "cell_type": "code",
   "execution_count": null,
   "metadata": {},
   "outputs": [],
   "source": [
    "#export\n",
    "\n",
    "import pandas as pd\n",
    "from os import system\n",
    "from tempfile import NamedTemporaryFile\n",
    "\n",
    "def pplyr(df, dplyr_code, verbose = False, fread = False):\n",
    "    \"\"\"\n",
    "    pplyr lets you use dplyrs grammar of data manipulation from within python without any code changes.\n",
    "    \n",
    "    pplyr writes a dataframe to csv, creates an R script with your dplyr code. The result is then returned as \n",
    "    a pandas Dataframe.\n",
    "    \n",
    "    For now, the dataframe passed to R is stored as \"df\" within R. This might change in future versions.\n",
    "    By default, pplyr uses R's read.csv() and write.csv() functions. These functions are notoriously slow. \n",
    "    If you deal with larger dataframes, make sure to install the \"data.tables\" R package and \n",
    "    pass fread = True to pplyr to speed up read/write operations. Please note that the output is slightly different\n",
    "    for fread/fwrite and read.csv/write.csv.\n",
    "    \n",
    "    See https://fdewes.github.io/pplyr/ for docs.\n",
    "    \"\"\"\n",
    "    \n",
    "    dpylr_data_in = NamedTemporaryFile()\n",
    "    dpylr_data_out = NamedTemporaryFile()\n",
    "    r_script_file = NamedTemporaryFile()\n",
    "    script_messages = NamedTemporaryFile()\n",
    "\n",
    "    if(fread):\n",
    "        libs = (\"suppressMessages(library(dplyr)); suppressMessages(library(data.table))\")\n",
    "        load = (\"df = fread('\" + dpylr_data_in.name + \"') %>% as.data.frame()\")\n",
    "        write = (\"fwrite(df, '\" + dpylr_data_out.name + \"')\")\n",
    "\n",
    "    else:\n",
    "        libs = (\"suppressMessages(library(dplyr));\")\n",
    "        load = (\"df = read.csv('\" + dpylr_data_in.name + \"') %>% as.data.frame()\")\n",
    "        write = (\"write.csv(df, '\" + dpylr_data_out.name + \"')\")\n",
    "\n",
    "    df.to_csv(dpylr_data_in.name)\n",
    "\n",
    "    r_script_code = libs + \"\\n\" + load + \"\\n\" + dplyr_code + \"\\n\" +write + \"\\n\"\n",
    "    \n",
    "    if(verbose):\n",
    "        print(r_script_code)\n",
    "    \n",
    "    with open(r_script_file.name, \"w\") as f:\n",
    "        f.write(r_script_code)\n",
    "\n",
    "    r_system_call = \"Rscript --no-site-file --no-init-file \" + r_script_file.name + \" > \" + script_messages.name + \" 2>&1\"\n",
    "        \n",
    "    system(r_system_call)\n",
    "    \n",
    "    if(verbose):\n",
    "        print(\"R output:\")\n",
    "        r_output = open(script_messages.name, \"r\") \n",
    "        print(r_output.read())\n",
    "    \n",
    "    df = pd.read_csv(dpylr_data_out.name, index_col = 0)\n",
    "    return df"
   ]
  }
 ],
 "metadata": {
  "kernelspec": {
   "display_name": "Python 3",
   "language": "python",
   "name": "python3"
  }
 },
 "nbformat": 4,
 "nbformat_minor": 4
}
