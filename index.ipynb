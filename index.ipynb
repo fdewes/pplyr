{
 "cells": [
  {
   "cell_type": "code",
   "execution_count": null,
   "metadata": {},
   "outputs": [],
   "source": [
    "#hide\n",
    "from pplyr.core import *\n",
    "import pandas as pd"
   ]
  },
  {
   "cell_type": "markdown",
   "metadata": {},
   "source": [
    "# pplyr\n",
    "\n",
    "> use the R dplyr package with python"
   ]
  },
  {
   "cell_type": "markdown",
   "metadata": {},
   "source": [
    "This file will become your README and also the index of your documentation."
   ]
  },
  {
   "cell_type": "markdown",
   "metadata": {},
   "source": [
    "## Install"
   ]
  },
  {
   "cell_type": "markdown",
   "metadata": {},
   "source": [
    "`pip install pplyr`"
   ]
  },
  {
   "cell_type": "markdown",
   "metadata": {},
   "source": [
    "## How to use"
   ]
  },
  {
   "cell_type": "markdown",
   "metadata": {},
   "source": [
    "Create a dplyr command and call pplyr(df, cmd):"
   ]
  },
  {
   "cell_type": "code",
   "execution_count": null,
   "metadata": {},
   "outputs": [
    {
     "name": "stdout",
     "output_type": "stream",
     "text": [
      "     Sepal.Length  Sepal.Width  Petal.Length  Petal.Width    Species\n",
      "1             5.1          3.5           1.4          0.2     setosa\n",
      "2             4.9          3.0           1.4          0.2     setosa\n",
      "3             4.7          3.2           1.3          0.2     setosa\n",
      "4             4.6          3.1           1.5          0.2     setosa\n",
      "5             5.0          3.6           1.4          0.2     setosa\n",
      "..            ...          ...           ...          ...        ...\n",
      "146           6.7          3.0           5.2          2.3  virginica\n",
      "147           6.3          2.5           5.0          1.9  virginica\n",
      "148           6.5          3.0           5.2          2.0  virginica\n",
      "149           6.2          3.4           5.4          2.3  virginica\n",
      "150           5.9          3.0           5.1          1.8  virginica\n",
      "\n",
      "[150 rows x 5 columns]\n"
     ]
    }
   ],
   "source": [
    "df = pd.read_csv(\"iris.csv\", index_col=0)\n",
    "print(df)"
   ]
  },
  {
   "cell_type": "code",
   "execution_count": null,
   "metadata": {},
   "outputs": [
    {
     "name": "stdout",
     "output_type": "stream",
     "text": [
      "    Sepal.Length     Species  n\n",
      "0            5.0      setosa  8\n",
      "1            5.1      setosa  8\n",
      "2            6.3   virginica  6\n",
      "3            4.8      setosa  5\n",
      "4            5.4      setosa  5\n",
      "5            5.5  versicolor  5\n",
      "6            5.6  versicolor  5\n",
      "7            5.7  versicolor  5\n",
      "8            6.4   virginica  5\n",
      "9            6.7   virginica  5\n",
      "10           4.6      setosa  4\n",
      "11           4.9      setosa  4\n",
      "12           6.0  versicolor  4\n",
      "13           6.1  versicolor  4\n",
      "14           6.5   virginica  4\n",
      "15           7.7   virginica  4\n",
      "16           4.4      setosa  3\n",
      "17           5.2      setosa  3\n",
      "18           5.8  versicolor  3\n",
      "19           5.8   virginica  3\n",
      "20           6.3  versicolor  3\n",
      "21           6.7  versicolor  3\n",
      "22           6.9   virginica  3\n",
      "23           7.2   virginica  3\n",
      "24           4.7      setosa  2\n",
      "25           5.0  versicolor  2\n",
      "26           5.5      setosa  2\n",
      "27           5.7      setosa  2\n",
      "28           5.9  versicolor  2\n",
      "29           6.0   virginica  2\n",
      "30           6.1   virginica  2\n",
      "31           6.2  versicolor  2\n",
      "32           6.2   virginica  2\n",
      "33           6.4  versicolor  2\n",
      "34           6.6  versicolor  2\n",
      "35           6.8   virginica  2\n",
      "36           4.3      setosa  1\n",
      "37           4.5      setosa  1\n",
      "38           4.9  versicolor  1\n",
      "39           4.9   virginica  1\n",
      "40           5.1  versicolor  1\n",
      "41           5.2  versicolor  1\n",
      "42           5.3      setosa  1\n",
      "43           5.4  versicolor  1\n",
      "44           5.6   virginica  1\n",
      "45           5.7   virginica  1\n",
      "46           5.8      setosa  1\n",
      "47           5.9   virginica  1\n",
      "48           6.5  versicolor  1\n",
      "49           6.8  versicolor  1\n",
      "50           6.9  versicolor  1\n",
      "51           7.0  versicolor  1\n",
      "52           7.1   virginica  1\n",
      "53           7.3   virginica  1\n",
      "54           7.4   virginica  1\n",
      "55           7.6   virginica  1\n",
      "56           7.9   virginica  1\n"
     ]
    }
   ],
   "source": [
    "cmd = \"\"\"\n",
    "df %>% group_by(Sepal.Length, Species) %>% summarize(n = n()) %>% arrange(-n)\n",
    "\"\"\"\n",
    "\n",
    "df = pplyr(df, cmd)\n",
    "print(df)"
   ]
  },
  {
   "cell_type": "code",
   "execution_count": null,
   "metadata": {},
   "outputs": [],
   "source": []
  }
 ],
 "metadata": {
  "kernelspec": {
   "display_name": "Python 3",
   "language": "python",
   "name": "python3"
  }
 },
 "nbformat": 4,
 "nbformat_minor": 4
}
