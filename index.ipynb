{
 "cells": [
  {
   "cell_type": "markdown",
   "metadata": {},
   "source": [
    "# pplyr\n",
    "\n",
    "pplyr lets you use dplyrs grammar of data manipulation from within python without any code changes.\n",
    "    \n",
    "pplyr writes a dataframe to csv, creates an R script with your dplyr code. The result is then returned as a pandas Dataframe.\n",
    "    \n",
    "For now, the dataframe passed to R is stored as \"df\" within R.\n",
    "\n",
    "By default, pplyr uses R's read.csv() and write.csv() functions. These functions are notoriously slow. \n",
    "If you deal with larger dataframes, make sure to install the \"data.tables\" R package and \n",
    "pass fread = True to pplyr to speed up read/write operations. \n",
    "\n",
    "Please note that the output is slightly different, so choose wisely!"
   ]
  },
  {
   "cell_type": "markdown",
   "metadata": {},
   "source": [
    "## Install"
   ]
  },
  {
   "cell_type": "markdown",
   "metadata": {},
   "source": [
    "`pip install pplyr`"
   ]
  },
  {
   "cell_type": "markdown",
   "metadata": {},
   "source": [
    "## How to use"
   ]
  },
  {
   "cell_type": "markdown",
   "metadata": {},
   "source": [
    "Create a dplyr command and call pplyr(df, dplyr_code):"
   ]
  },
  {
   "cell_type": "code",
   "execution_count": null,
   "metadata": {},
   "outputs": [],
   "source": [
    "from pplyr.core import pplyr\n",
    "import pandas as pd\n",
    "df = pd.read_csv(\"iris.csv\", index_col=0)\n",
    "\n",
    "dplyr = \"\"\"\n",
    "\n",
    "df = df %>% group_by(Species) %>% summarize_all(list(mean = mean)) %>% select(-X_mean)\n",
    "\n",
    "\"\"\"\n",
    "\n",
    "df = pplyr(df, dplyr)"
   ]
  }
 ],
 "metadata": {
  "kernelspec": {
   "display_name": "Python 3",
   "language": "python",
   "name": "python3"
  }
 },
 "nbformat": 4,
 "nbformat_minor": 4
}
