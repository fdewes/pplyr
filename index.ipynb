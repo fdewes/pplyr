{
 "cells": [
  {
   "cell_type": "markdown",
   "metadata": {},
   "source": [
    "# pplyr\n",
    "\n",
    "> pplyr lets you use dplyrs grammar of data manipulation from within python without any code changes.\n",
    "    \n",
    "pplyr writes a dataframe to csv, creates an R script with your dplyr code. The result is then returned as a pandas Dataframe.\n",
    "    \n",
    "For now, the dataframe passed to R is stored as \"df\" within R.\n",
    "\n",
    "By default, pplyr uses R's read.csv() and write.csv() functions. These functions are notoriously slow. \n",
    "If you deal with larger dataframes, make sure to install the \"data.tables\" R package and \n",
    "pass fread = True to pplyr to speed up read/write operations. \n",
    "\n",
    "Please note that the output of those functions is slightly different, so choose wisely!"
   ]
  },
  {
   "cell_type": "markdown",
   "metadata": {},
   "source": [
    "## Install"
   ]
  },
  {
   "cell_type": "markdown",
   "metadata": {},
   "source": [
    "`pip install pplyr`"
   ]
  },
  {
   "cell_type": "markdown",
   "metadata": {},
   "source": [
    "## How to use"
   ]
  },
  {
   "cell_type": "code",
   "execution_count": null,
   "metadata": {},
   "outputs": [
    {
     "data": {
      "text/html": [
       "<div>\n",
       "<style scoped>\n",
       "    .dataframe tbody tr th:only-of-type {\n",
       "        vertical-align: middle;\n",
       "    }\n",
       "\n",
       "    .dataframe tbody tr th {\n",
       "        vertical-align: top;\n",
       "    }\n",
       "\n",
       "    .dataframe thead th {\n",
       "        text-align: right;\n",
       "    }\n",
       "</style>\n",
       "<table border=\"1\" class=\"dataframe\">\n",
       "  <thead>\n",
       "    <tr style=\"text-align: right;\">\n",
       "      <th></th>\n",
       "      <th>Species</th>\n",
       "      <th>Sepal.Length_mean</th>\n",
       "      <th>Sepal.Width_mean</th>\n",
       "      <th>Petal.Length_mean</th>\n",
       "      <th>Petal.Width_mean</th>\n",
       "    </tr>\n",
       "  </thead>\n",
       "  <tbody>\n",
       "    <tr>\n",
       "      <td>1</td>\n",
       "      <td>setosa</td>\n",
       "      <td>5.006</td>\n",
       "      <td>3.428</td>\n",
       "      <td>1.462</td>\n",
       "      <td>0.246</td>\n",
       "    </tr>\n",
       "    <tr>\n",
       "      <td>2</td>\n",
       "      <td>versicolor</td>\n",
       "      <td>5.936</td>\n",
       "      <td>2.770</td>\n",
       "      <td>4.260</td>\n",
       "      <td>1.326</td>\n",
       "    </tr>\n",
       "    <tr>\n",
       "      <td>3</td>\n",
       "      <td>virginica</td>\n",
       "      <td>6.588</td>\n",
       "      <td>2.974</td>\n",
       "      <td>5.552</td>\n",
       "      <td>2.026</td>\n",
       "    </tr>\n",
       "  </tbody>\n",
       "</table>\n",
       "</div>"
      ],
      "text/plain": [
       "      Species  Sepal.Length_mean  Sepal.Width_mean  Petal.Length_mean  \\\n",
       "1      setosa              5.006             3.428              1.462   \n",
       "2  versicolor              5.936             2.770              4.260   \n",
       "3   virginica              6.588             2.974              5.552   \n",
       "\n",
       "   Petal.Width_mean  \n",
       "1             0.246  \n",
       "2             1.326  \n",
       "3             2.026  "
      ]
     },
     "execution_count": null,
     "metadata": {},
     "output_type": "execute_result"
    }
   ],
   "source": [
    "from pplyr.core import pplyr\n",
    "import pandas as pd\n",
    "\n",
    "df = pd.read_csv(\"iris.csv\", index_col=0)\n",
    "\n",
    "dplyr = \"\"\"\n",
    "\n",
    "df = df %>% group_by(Species) %>% summarize_all(list(mean = mean)) %>% select(-X_mean)\n",
    "\n",
    "\"\"\"\n",
    "\n",
    "pplyr(df, dplyr)"
   ]
  }
 ],
 "metadata": {
  "kernelspec": {
   "display_name": "Python 3",
   "language": "python",
   "name": "python3"
  }
 },
 "nbformat": 4,
 "nbformat_minor": 4
}
