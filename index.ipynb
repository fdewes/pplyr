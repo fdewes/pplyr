{
 "cells": [
  {
   "cell_type": "code",
   "execution_count": 1,
   "metadata": {},
   "outputs": [],
   "source": [
    "#hide\n",
    "import pandas as pd\n",
    "from pplyr.core import *"
   ]
  },
  {
   "cell_type": "markdown",
   "metadata": {},
   "source": [
    "# pplyr\n",
    "\n",
    "> pplyr lets you use dplyrs grammar of data manipulation from within python without any code changes.\n",
    "    \n",
    ">pplyr writes a dataframe to csv, creates an R script with your dplyr code. The result is then returned as a pandas Dataframe.\n",
    "    \n",
    ">For now, the dataframe passed to R is stored as \"df\" within R. This might change in future versions.\n",
    ">By default, pplyr uses R's read.csv() and write.csv() functions. These functions are notoriously slow. If you deal with larger dataframes, make sure to install the \"data.tables\" R package and pass fread = True to pplyr to speed up read/write operations.\n",
    "    \n",
    "See https://fdewes.github.io/pplyr/ for docs."
   ]
  },
  {
   "cell_type": "markdown",
   "metadata": {},
   "source": [
    "## Install"
   ]
  },
  {
   "cell_type": "markdown",
   "metadata": {},
   "source": [
    "`pip install pplyr`"
   ]
  },
  {
   "cell_type": "markdown",
   "metadata": {},
   "source": [
    "## How to use"
   ]
  },
  {
   "cell_type": "markdown",
   "metadata": {},
   "source": [
    "Create a dplyr command and call pplyr(df, dplyr_code):"
   ]
  },
  {
   "cell_type": "code",
   "execution_count": 4,
   "metadata": {},
   "outputs": [
    {
     "name": "stdout",
     "output_type": "stream",
     "text": [
      "     Sepal.Length  Sepal.Width  Petal.Length  Petal.Width    Species\n",
      "1             5.1          3.5           1.4          0.2     setosa\n",
      "2             4.9          3.0           1.4          0.2     setosa\n",
      "3             4.7          3.2           1.3          0.2     setosa\n",
      "4             4.6          3.1           1.5          0.2     setosa\n",
      "5             5.0          3.6           1.4          0.2     setosa\n",
      "..            ...          ...           ...          ...        ...\n",
      "146           6.7          3.0           5.2          2.3  virginica\n",
      "147           6.3          2.5           5.0          1.9  virginica\n",
      "148           6.5          3.0           5.2          2.0  virginica\n",
      "149           6.2          3.4           5.4          2.3  virginica\n",
      "150           5.9          3.0           5.1          1.8  virginica\n",
      "\n",
      "[150 rows x 5 columns]\n"
     ]
    }
   ],
   "source": [
    "df = pd.read_csv(\"iris.csv\", index_col=0)\n",
    "print(df)"
   ]
  },
  {
   "cell_type": "code",
   "execution_count": 6,
   "metadata": {},
   "outputs": [
    {
     "name": "stdout",
     "output_type": "stream",
     "text": [
      "      Species  Sepal.Length_mean  Sepal.Width_mean  Petal.Length_mean  \\\n",
      "1      setosa              5.006             3.428              1.462   \n",
      "2  versicolor              5.936             2.770              4.260   \n",
      "3   virginica              6.588             2.974              5.552   \n",
      "\n",
      "   Petal.Width_mean  \n",
      "1             0.246  \n",
      "2             1.326  \n",
      "3             2.026  \n"
     ]
    }
   ],
   "source": [
    "df = pd.read_csv(\"iris.csv\", index_col=0)\n",
    "\n",
    "dplyr = \"\"\"\n",
    "df = df %>% group_by(Species) %>% summarize_all(list(mean = mean)) %>% select(-X_mean)\n",
    "\"\"\"\n",
    "\n",
    "df = pplyr(df, dplyr)\n",
    "print(df)"
   ]
  },
  {
   "cell_type": "code",
   "execution_count": null,
   "metadata": {},
   "outputs": [],
   "source": []
  }
 ],
 "metadata": {
  "kernelspec": {
   "display_name": "Python 3",
   "language": "python",
   "name": "python3"
  },
  "language_info": {
   "codemirror_mode": {
    "name": "ipython",
    "version": 3
   },
   "file_extension": ".py",
   "mimetype": "text/x-python",
   "name": "python",
   "nbconvert_exporter": "python",
   "pygments_lexer": "ipython3",
   "version": "3.6.9"
  }
 },
 "nbformat": 4,
 "nbformat_minor": 4
}
